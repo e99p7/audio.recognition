{
  "nbformat": 4,
  "nbformat_minor": 0,
  "metadata": {
    "colab": {
      "provenance": []
    },
    "kernelspec": {
      "name": "python3",
      "display_name": "Python 3"
    },
    "language_info": {
      "name": "python"
    }
  },
  "cells": [
    {
      "cell_type": "code",
      "source": [
        "import librosa\n",
        "import matplotlib.pyplot as plt\n",
        "import librosa.display\n",
        "import IPython.display as ipd\n",
        "from google.colab import files\n",
        "import os\n",
        "import numpy as np\n",
        "\n",
        "from tensorflow.keras.utils import to_categorical\n",
        "from tensorflow.keras.optimizers import Adam, RMSprop\n",
        "from tensorflow.keras.models import Sequential, Model\n",
        "from tensorflow.keras.layers import concatenate, Input, Dense, Dropout, BatchNormalization, Flatten, Conv1D, Conv2D, LSTM\n",
        "import sklearn\n",
        "from sklearn import preprocessing\n",
        "from sklearn.model_selection import train_test_split\n",
        "from sklearn.preprocessing import LabelEncoder, StandardScaler\n",
        "\n",
        "%matplotlib inline"
      ],
      "metadata": {
        "id": "e4mYHhGsUsw1"
      },
      "execution_count": 1,
      "outputs": []
    },
    {
      "cell_type": "code",
      "source": [
        "!unzip -q 'drive/MyDrive/Нейросети/music.zip'\n"
      ],
      "metadata": {
        "id": "cOVN32wwU9DE"
      },
      "execution_count": 2,
      "outputs": []
    },
    {
      "cell_type": "code",
      "source": [
        "music = os.listdir('Audio_Files')\n",
        "\n",
        "!ls Audio_Files"
      ],
      "metadata": {
        "colab": {
          "base_uri": "https://localhost:8080/"
        },
        "id": "dPxu4-BxOvse",
        "outputId": "cade93d0-d537-4524-b20b-68936b19a797"
      },
      "execution_count": 3,
      "outputs": [
        {
          "output_type": "stream",
          "name": "stdout",
          "text": [
            "Major  Minor\n"
          ]
        }
      ]
    },
    {
      "cell_type": "code",
      "source": [
        "def get_features(y, sr):\n",
        "\n",
        "  chroma_stft = librosa.feature.chroma_stft(y=y, sr=sr)\n",
        "  mfcc = librosa.feature.mfcc(y=y, sr=sr)\n",
        "\n",
        "  rmse=np.mean(librosa.feature.rms(y=y)[0])\n",
        "  spec_cent = np.mean(librosa.feature.spectral_centroid(y=y, sr=sr))\n",
        "  spec_bw = np.mean(librosa.feature.spectral_bandwidth(y=y, sr=sr))\n",
        "  rolloff = np.mean(librosa.feature.spectral_rolloff(y=y, sr=sr))\n",
        "  zcr = np.mean(librosa.feature.zero_crossing_rate(y))\n",
        "\n",
        "\n",
        "\n",
        "  out = []\n",
        "  out.append(rmse)\n",
        "  out.append(spec_cent)\n",
        "  out.append(spec_bw)\n",
        "  out.append(rolloff)\n",
        "  out.append(zcr)\n",
        "\n",
        "  for e in mfcc:\n",
        "    out.append(np.mean(e))\n",
        "\n",
        "  for e in chroma_stft:\n",
        "    out.append(np.mean(e))\n",
        "\n",
        "  return out"
      ],
      "metadata": {
        "id": "sNXU69j7Vkf1"
      },
      "execution_count": 4,
      "outputs": []
    },
    {
      "cell_type": "code",
      "source": [
        "import time\n",
        "\n",
        "X_train = []\n",
        "Y_train = []\n",
        "\n",
        "curr_time = time.time()\n",
        "\n",
        "for i in range(len(music)):\n",
        "  g = music[i]\n",
        "\n",
        "  for filename in os.listdir(f'./Audio_Files/{g}'):\n",
        "\n",
        "    songname = f'./Audio_Files/{g}/{filename}'\n",
        "\n",
        "    y, sr = librosa.load(songname, mono=True, duration=30)\n",
        "\n",
        "    out = get_features(y, sr)\n",
        "\n",
        "\n",
        "    X_train.append(out)\n",
        "\n",
        "    Y_train.append(to_categorical(i, len(music)))\n",
        "\n",
        "\n",
        "  print(\"Тональность \", g, \" готова -> \", round(time.time() - curr_time), \"c\", sep=\"\")\n",
        "  curr_time = time.time()\n",
        "\n"
      ],
      "metadata": {
        "id": "sW7k424DVmfs",
        "colab": {
          "base_uri": "https://localhost:8080/"
        },
        "outputId": "e06b3d98-ee5c-4cec-c795-e53ae90055d8"
      },
      "execution_count": 5,
      "outputs": [
        {
          "output_type": "stream",
          "name": "stdout",
          "text": [
            "Тональность Major готова -> 48c\n",
            "Тональность Minor готова -> 26c\n"
          ]
        }
      ]
    },
    {
      "cell_type": "code",
      "source": [
        "X_train = np.array((X_train), dtype=object)\n",
        "Y_train = np.array((Y_train), dtype=object)"
      ],
      "metadata": {
        "id": "NiqSsM1XJuYS"
      },
      "execution_count": 6,
      "outputs": []
    },
    {
      "cell_type": "code",
      "source": [
        "X_train_backup = X_train.copy()\n",
        "Y_train_backup = Y_train.copy()"
      ],
      "metadata": {
        "id": "CfGjk1iMVr8M"
      },
      "execution_count": 7,
      "outputs": []
    },
    {
      "cell_type": "code",
      "source": [
        "y_train_class = np.argmax(Y_train, axis=1)\n",
        "print(y_train_class)"
      ],
      "metadata": {
        "id": "W97kQnS_VtVW",
        "colab": {
          "base_uri": "https://localhost:8080/"
        },
        "outputId": "f745b8aa-7c71-4cda-cc80-115bc7ba6867"
      },
      "execution_count": 8,
      "outputs": [
        {
          "output_type": "stream",
          "name": "stdout",
          "text": [
            "[0 0 0 0 0 0 0 0 0 0 0 0 0 0 0 0 0 0 0 0 0 0 0 0 0 0 0 0 0 0 0 0 0 0 0 0 0\n",
            " 0 0 0 0 0 0 0 0 0 0 0 0 0 0 0 0 0 0 0 0 0 0 0 0 0 0 0 0 0 0 0 0 0 0 0 0 0\n",
            " 0 0 0 0 0 0 0 0 0 0 0 0 0 0 0 0 0 0 0 0 0 0 0 0 0 0 0 0 0 0 0 0 0 0 0 0 0\n",
            " 0 0 0 0 0 0 0 0 0 0 0 0 0 0 0 0 0 0 0 0 0 0 0 0 0 0 0 0 0 0 0 0 0 0 0 0 0\n",
            " 0 0 0 0 0 0 0 0 0 0 0 0 0 0 0 0 0 0 0 0 0 0 0 0 0 0 0 0 0 0 0 0 0 0 0 0 0\n",
            " 0 0 0 0 0 0 0 0 0 0 0 0 0 0 0 0 0 0 0 0 0 0 0 0 0 0 0 0 0 0 0 0 0 0 0 0 0\n",
            " 0 0 0 0 0 0 0 0 0 0 0 0 0 0 0 0 0 0 0 0 0 0 0 0 0 0 0 0 0 0 0 0 0 0 0 0 0\n",
            " 0 0 0 0 0 0 0 0 0 0 0 0 0 0 0 0 0 0 0 0 0 0 0 0 0 0 0 0 0 0 0 0 0 0 0 0 0\n",
            " 0 0 0 0 0 0 0 0 0 0 0 0 0 0 0 0 0 0 0 0 0 0 0 0 0 0 0 0 0 0 0 0 0 0 0 0 0\n",
            " 0 0 0 0 0 0 0 0 0 0 0 0 0 0 0 0 0 0 0 0 0 0 0 0 0 0 0 0 0 0 0 0 0 0 0 0 0\n",
            " 0 0 0 0 0 0 0 0 0 0 0 0 0 0 0 0 0 0 0 0 0 0 0 0 0 0 0 0 0 0 0 0 0 0 0 0 0\n",
            " 0 0 0 0 0 0 0 0 0 0 0 0 0 0 0 0 0 0 0 0 0 0 0 0 0 0 0 0 0 0 0 0 0 0 0 0 0\n",
            " 0 0 0 0 0 0 0 0 0 0 0 0 0 0 0 0 0 0 0 0 0 0 0 0 0 0 0 0 0 0 0 0 0 0 0 0 0\n",
            " 0 0 0 0 0 0 0 0 0 0 0 0 0 0 0 0 0 0 0 0 0 1 1 1 1 1 1 1 1 1 1 1 1 1 1 1 1\n",
            " 1 1 1 1 1 1 1 1 1 1 1 1 1 1 1 1 1 1 1 1 1 1 1 1 1 1 1 1 1 1 1 1 1 1 1 1 1\n",
            " 1 1 1 1 1 1 1 1 1 1 1 1 1 1 1 1 1 1 1 1 1 1 1 1 1 1 1 1 1 1 1 1 1 1 1 1 1\n",
            " 1 1 1 1 1 1 1 1 1 1 1 1 1 1 1 1 1 1 1 1 1 1 1 1 1 1 1 1 1 1 1 1 1 1 1 1 1\n",
            " 1 1 1 1 1 1 1 1 1 1 1 1 1 1 1 1 1 1 1 1 1 1 1 1 1 1 1 1 1 1 1 1 1 1 1 1 1\n",
            " 1 1 1 1 1 1 1 1 1 1 1 1 1 1 1 1 1 1 1 1 1 1 1 1 1 1 1 1 1 1 1 1 1 1 1 1 1\n",
            " 1 1 1 1 1 1 1 1 1 1 1 1 1 1 1 1 1 1 1 1 1 1 1 1 1 1 1 1 1 1 1 1 1 1 1 1 1\n",
            " 1 1 1 1 1 1 1 1 1 1 1 1 1 1 1 1 1 1 1 1 1 1 1 1 1 1 1 1 1 1 1 1 1 1 1 1 1\n",
            " 1 1 1 1 1 1 1 1 1 1 1 1 1 1 1 1 1 1 1 1 1 1 1 1 1 1 1 1 1 1 1 1 1 1 1 1 1\n",
            " 1 1 1 1 1 1 1 1 1 1 1 1 1 1 1 1 1 1 1 1 1 1 1 1 1 1 1 1 1 1 1 1 1 1 1 1 1\n",
            " 1 1 1 1 1 1 1 1]\n"
          ]
        }
      ]
    },
    {
      "cell_type": "code",
      "source": [
        "print(X_train.shape)\n",
        "print(Y_train.shape)\n",
        "print(y_train_class.shape)"
      ],
      "metadata": {
        "id": "SYIWBORGVua0",
        "colab": {
          "base_uri": "https://localhost:8080/"
        },
        "outputId": "6c118606-3d8c-4f31-ae86-1c7653f0157a"
      },
      "execution_count": 12,
      "outputs": [
        {
          "output_type": "stream",
          "name": "stdout",
          "text": [
            "(859, 37)\n",
            "(859, 2)\n",
            "(859,)\n"
          ]
        }
      ]
    },
    {
      "cell_type": "code",
      "source": [
        "scaler = StandardScaler()"
      ],
      "metadata": {
        "id": "lK0HKKfRVvoU"
      },
      "execution_count": 13,
      "outputs": []
    },
    {
      "cell_type": "code",
      "source": [
        "print(X_train)"
      ],
      "metadata": {
        "colab": {
          "base_uri": "https://localhost:8080/"
        },
        "id": "wlSo62_cWkDm",
        "outputId": "cc1227a7-6676-40c1-9084-617c91a79533"
      },
      "execution_count": 14,
      "outputs": [
        {
          "output_type": "stream",
          "name": "stdout",
          "text": [
            "[[0.12713358 681.5819347856483 720.1752629249 ... 0.4575792 0.43211982\n",
            "  0.278583]\n",
            " [0.116838604 694.080892743765 681.1646188082426 ... 0.110103495 0.271105\n",
            "  0.07502847]\n",
            " [0.12597708 623.6803170375197 702.3721002673119 ... 0.19730937\n",
            "  0.12930216 0.20740227]\n",
            " ...\n",
            " [0.102075875 457.9346169476705 741.7794428581684 ... 0.32707956\n",
            "  0.14025816 0.2339091]\n",
            " [0.08376505 567.754817816985 929.0297197963378 ... 0.062987044\n",
            "  0.13624774 0.6142175]\n",
            " [0.13982277 677.9220038134475 688.3959973650836 ... 0.054347057\n",
            "  0.19799569 0.80202395]]\n"
          ]
        }
      ]
    },
    {
      "cell_type": "code",
      "source": [
        "print(Y_train)"
      ],
      "metadata": {
        "colab": {
          "base_uri": "https://localhost:8080/"
        },
        "id": "G2E_4WdQVOvy",
        "outputId": "4c004673-1a50-4f63-cc57-be839b031848"
      },
      "execution_count": 15,
      "outputs": [
        {
          "output_type": "stream",
          "name": "stdout",
          "text": [
            "[[1.0 0.0]\n",
            " [1.0 0.0]\n",
            " [1.0 0.0]\n",
            " ...\n",
            " [0.0 1.0]\n",
            " [0.0 1.0]\n",
            " [0.0 1.0]]\n"
          ]
        }
      ]
    },
    {
      "cell_type": "code",
      "source": [
        "columns = ['dense','neuron','drop','BN','activation','batch_size','acc','val_acc']"
      ],
      "metadata": {
        "id": "rUxGtzyzYqCn"
      },
      "execution_count": 16,
      "outputs": []
    },
    {
      "cell_type": "code",
      "source": [
        "X_train = scaler.fit_transform(X_train)"
      ],
      "metadata": {
        "id": "2HPPdt9gLHPn"
      },
      "execution_count": 17,
      "outputs": []
    },
    {
      "cell_type": "code",
      "source": [
        "print(X_train[0])"
      ],
      "metadata": {
        "id": "lGKV7hp3VyE0",
        "colab": {
          "base_uri": "https://localhost:8080/"
        },
        "outputId": "3b631d00-7394-4175-b230-b40491ddf4db"
      },
      "execution_count": 18,
      "outputs": [
        {
          "output_type": "stream",
          "name": "stdout",
          "text": [
            "[ 0.49601628  0.68826487 -0.67353177  0.60401136  0.76277703  1.19214027\n",
            "  1.25589306 -1.07948455 -0.21763789 -0.67525496 -0.94005062 -0.80841526\n",
            " -0.92826738 -1.04821014 -0.68038636 -0.14723551  0.07879062 -0.47318647\n",
            " -1.11949087 -1.28334608 -1.13669636 -0.95418698  0.12852105  1.39145734\n",
            "  0.67151895  2.03033107  0.57567234  2.54390068  0.60612009 -0.9770421\n",
            " -0.39667263  0.72171792  0.10386812  0.03825801  0.73163053  0.29370264\n",
            " -0.30788272]\n"
          ]
        }
      ]
    },
    {
      "cell_type": "code",
      "source": [
        "X_train, X_test, y_train, y_test = train_test_split(X_train, y_train_class, test_size=0.1, shuffle=True)"
      ],
      "metadata": {
        "id": "UjjDINOyV0Iz"
      },
      "execution_count": 19,
      "outputs": []
    },
    {
      "cell_type": "code",
      "source": [
        "print(X_train.shape)\n",
        "print(y_train.shape)\n",
        "print(X_test.shape)\n",
        "print(y_test.shape)"
      ],
      "metadata": {
        "id": "ZL35OmmZV0kM",
        "colab": {
          "base_uri": "https://localhost:8080/"
        },
        "outputId": "84042772-c301-47e4-fe4a-d985f55fc889"
      },
      "execution_count": 20,
      "outputs": [
        {
          "output_type": "stream",
          "name": "stdout",
          "text": [
            "(773, 37)\n",
            "(773,)\n",
            "(86, 37)\n",
            "(86,)\n"
          ]
        }
      ]
    },
    {
      "cell_type": "code",
      "source": [
        "indexes = range(0,4)\n",
        "\n",
        "model = Sequential()\n",
        "model.add(Dense(200, activation='elu', input_shape=(len(indexes),)))\n",
        "model.add(Dense(10, activation='softmax'))\n",
        "\n",
        "model.compile(optimizer=Adam(learning_rate=1e-4),\n",
        "              loss='sparse_categorical_crossentropy',\n",
        "              metrics=['accuracy'])\n",
        "\n",
        "history = model.fit(X_train[:, indexes],\n",
        "                    y_train,\n",
        "                    epochs=120,\n",
        "                    batch_size=20,\n",
        "                    validation_data=(X_test[:, indexes], y_test))\n",
        "\n",
        "plt.plot(history.history[\"accuracy\"])\n",
        "plt.plot(history.history[\"val_accuracy\"])\n",
        "plt.show()"
      ],
      "metadata": {
        "colab": {
          "base_uri": "https://localhost:8080/",
          "height": 1000
        },
        "id": "eP_0CTDJO6_K",
        "outputId": "7edec8cb-7b3c-4ad3-ab81-9d703cd3fbf2"
      },
      "execution_count": 22,
      "outputs": [
        {
          "output_type": "stream",
          "name": "stderr",
          "text": [
            "WARNING:absl:`lr` is deprecated in Keras optimizer, please use `learning_rate` or use the legacy optimizer, e.g.,tf.keras.optimizers.legacy.Adam.\n"
          ]
        },
        {
          "output_type": "stream",
          "name": "stdout",
          "text": [
            "Epoch 1/120\n",
            "39/39 [==============================] - 1s 7ms/step - loss: 2.1091 - accuracy: 0.3713 - val_loss: 1.8173 - val_accuracy: 0.5814\n",
            "Epoch 2/120\n",
            "39/39 [==============================] - 0s 3ms/step - loss: 1.4867 - accuracy: 0.5796 - val_loss: 1.1149 - val_accuracy: 0.5814\n",
            "Epoch 3/120\n",
            "39/39 [==============================] - 0s 3ms/step - loss: 0.9294 - accuracy: 0.5783 - val_loss: 0.7915 - val_accuracy: 0.6047\n",
            "Epoch 4/120\n",
            "39/39 [==============================] - 0s 3ms/step - loss: 0.7564 - accuracy: 0.5925 - val_loss: 0.7201 - val_accuracy: 0.5465\n",
            "Epoch 5/120\n",
            "39/39 [==============================] - 0s 3ms/step - loss: 0.7215 - accuracy: 0.5796 - val_loss: 0.6988 - val_accuracy: 0.6163\n",
            "Epoch 6/120\n",
            "39/39 [==============================] - 0s 3ms/step - loss: 0.7051 - accuracy: 0.5718 - val_loss: 0.6931 - val_accuracy: 0.6163\n",
            "Epoch 7/120\n",
            "39/39 [==============================] - 0s 3ms/step - loss: 0.7009 - accuracy: 0.5821 - val_loss: 0.6837 - val_accuracy: 0.6047\n",
            "Epoch 8/120\n",
            "39/39 [==============================] - 0s 3ms/step - loss: 0.6934 - accuracy: 0.5821 - val_loss: 0.6807 - val_accuracy: 0.6047\n",
            "Epoch 9/120\n",
            "39/39 [==============================] - 0s 3ms/step - loss: 0.6904 - accuracy: 0.5809 - val_loss: 0.6797 - val_accuracy: 0.5465\n",
            "Epoch 10/120\n",
            "39/39 [==============================] - 0s 3ms/step - loss: 0.6886 - accuracy: 0.5860 - val_loss: 0.6794 - val_accuracy: 0.6163\n",
            "Epoch 11/120\n",
            "39/39 [==============================] - 0s 3ms/step - loss: 0.6882 - accuracy: 0.5809 - val_loss: 0.6772 - val_accuracy: 0.5698\n",
            "Epoch 12/120\n",
            "39/39 [==============================] - 0s 3ms/step - loss: 0.6899 - accuracy: 0.5627 - val_loss: 0.6769 - val_accuracy: 0.6047\n",
            "Epoch 13/120\n",
            "39/39 [==============================] - 0s 3ms/step - loss: 0.6883 - accuracy: 0.5731 - val_loss: 0.6744 - val_accuracy: 0.6163\n",
            "Epoch 14/120\n",
            "39/39 [==============================] - 0s 3ms/step - loss: 0.6873 - accuracy: 0.5809 - val_loss: 0.6737 - val_accuracy: 0.6163\n",
            "Epoch 15/120\n",
            "39/39 [==============================] - 0s 4ms/step - loss: 0.6885 - accuracy: 0.5692 - val_loss: 0.6699 - val_accuracy: 0.6163\n",
            "Epoch 16/120\n",
            "39/39 [==============================] - 0s 4ms/step - loss: 0.6864 - accuracy: 0.5640 - val_loss: 0.6729 - val_accuracy: 0.5814\n",
            "Epoch 17/120\n",
            "39/39 [==============================] - 0s 4ms/step - loss: 0.6881 - accuracy: 0.5821 - val_loss: 0.6773 - val_accuracy: 0.6279\n",
            "Epoch 18/120\n",
            "39/39 [==============================] - 0s 4ms/step - loss: 0.6865 - accuracy: 0.5796 - val_loss: 0.6739 - val_accuracy: 0.6047\n",
            "Epoch 19/120\n",
            "39/39 [==============================] - 0s 4ms/step - loss: 0.6886 - accuracy: 0.5589 - val_loss: 0.6703 - val_accuracy: 0.6163\n",
            "Epoch 20/120\n",
            "39/39 [==============================] - 0s 4ms/step - loss: 0.6837 - accuracy: 0.5796 - val_loss: 0.6769 - val_accuracy: 0.5581\n",
            "Epoch 21/120\n",
            "39/39 [==============================] - 0s 4ms/step - loss: 0.6824 - accuracy: 0.5860 - val_loss: 0.6698 - val_accuracy: 0.6047\n",
            "Epoch 22/120\n",
            "39/39 [==============================] - 0s 4ms/step - loss: 0.6831 - accuracy: 0.5744 - val_loss: 0.6697 - val_accuracy: 0.6047\n",
            "Epoch 23/120\n",
            "39/39 [==============================] - 0s 5ms/step - loss: 0.6837 - accuracy: 0.5770 - val_loss: 0.6702 - val_accuracy: 0.6047\n",
            "Epoch 24/120\n",
            "39/39 [==============================] - 0s 5ms/step - loss: 0.6812 - accuracy: 0.5809 - val_loss: 0.6721 - val_accuracy: 0.6163\n",
            "Epoch 25/120\n",
            "39/39 [==============================] - 0s 5ms/step - loss: 0.6819 - accuracy: 0.5770 - val_loss: 0.6685 - val_accuracy: 0.6047\n",
            "Epoch 26/120\n",
            "39/39 [==============================] - 0s 4ms/step - loss: 0.6832 - accuracy: 0.5821 - val_loss: 0.6726 - val_accuracy: 0.5930\n",
            "Epoch 27/120\n",
            "39/39 [==============================] - 0s 4ms/step - loss: 0.6817 - accuracy: 0.5757 - val_loss: 0.6672 - val_accuracy: 0.5930\n",
            "Epoch 28/120\n",
            "39/39 [==============================] - 0s 4ms/step - loss: 0.6835 - accuracy: 0.5796 - val_loss: 0.6708 - val_accuracy: 0.6047\n",
            "Epoch 29/120\n",
            "39/39 [==============================] - 0s 4ms/step - loss: 0.6812 - accuracy: 0.5757 - val_loss: 0.6700 - val_accuracy: 0.5930\n",
            "Epoch 30/120\n",
            "39/39 [==============================] - 0s 4ms/step - loss: 0.6857 - accuracy: 0.5783 - val_loss: 0.6713 - val_accuracy: 0.5698\n",
            "Epoch 31/120\n",
            "39/39 [==============================] - 0s 4ms/step - loss: 0.6811 - accuracy: 0.5938 - val_loss: 0.6737 - val_accuracy: 0.6279\n",
            "Epoch 32/120\n",
            "39/39 [==============================] - 0s 4ms/step - loss: 0.6801 - accuracy: 0.5821 - val_loss: 0.6666 - val_accuracy: 0.6163\n",
            "Epoch 33/120\n",
            "39/39 [==============================] - 0s 4ms/step - loss: 0.6830 - accuracy: 0.5834 - val_loss: 0.6660 - val_accuracy: 0.6163\n",
            "Epoch 34/120\n",
            "39/39 [==============================] - 0s 4ms/step - loss: 0.6885 - accuracy: 0.5446 - val_loss: 0.6699 - val_accuracy: 0.6163\n",
            "Epoch 35/120\n",
            "39/39 [==============================] - 0s 5ms/step - loss: 0.6794 - accuracy: 0.5834 - val_loss: 0.6676 - val_accuracy: 0.5698\n",
            "Epoch 36/120\n",
            "39/39 [==============================] - 0s 5ms/step - loss: 0.6816 - accuracy: 0.5796 - val_loss: 0.6716 - val_accuracy: 0.6047\n",
            "Epoch 37/120\n",
            "39/39 [==============================] - 0s 4ms/step - loss: 0.6807 - accuracy: 0.5809 - val_loss: 0.6685 - val_accuracy: 0.6047\n",
            "Epoch 38/120\n",
            "39/39 [==============================] - 0s 4ms/step - loss: 0.6816 - accuracy: 0.5770 - val_loss: 0.6727 - val_accuracy: 0.5349\n",
            "Epoch 39/120\n",
            "39/39 [==============================] - 0s 4ms/step - loss: 0.6813 - accuracy: 0.5796 - val_loss: 0.6673 - val_accuracy: 0.5814\n",
            "Epoch 40/120\n",
            "39/39 [==============================] - 0s 4ms/step - loss: 0.6833 - accuracy: 0.5796 - val_loss: 0.6675 - val_accuracy: 0.6163\n",
            "Epoch 41/120\n",
            "39/39 [==============================] - 0s 4ms/step - loss: 0.6811 - accuracy: 0.5666 - val_loss: 0.6680 - val_accuracy: 0.6047\n",
            "Epoch 42/120\n",
            "39/39 [==============================] - 0s 4ms/step - loss: 0.6809 - accuracy: 0.5821 - val_loss: 0.6749 - val_accuracy: 0.6047\n",
            "Epoch 43/120\n",
            "39/39 [==============================] - 0s 5ms/step - loss: 0.6845 - accuracy: 0.5809 - val_loss: 0.6687 - val_accuracy: 0.6163\n",
            "Epoch 44/120\n",
            "39/39 [==============================] - 0s 4ms/step - loss: 0.6811 - accuracy: 0.5770 - val_loss: 0.6656 - val_accuracy: 0.6047\n",
            "Epoch 45/120\n",
            "39/39 [==============================] - 0s 4ms/step - loss: 0.6813 - accuracy: 0.5770 - val_loss: 0.6680 - val_accuracy: 0.6163\n",
            "Epoch 46/120\n",
            "39/39 [==============================] - 0s 3ms/step - loss: 0.6809 - accuracy: 0.5809 - val_loss: 0.6675 - val_accuracy: 0.6047\n",
            "Epoch 47/120\n",
            "39/39 [==============================] - 0s 3ms/step - loss: 0.6804 - accuracy: 0.5847 - val_loss: 0.6647 - val_accuracy: 0.6163\n",
            "Epoch 48/120\n",
            "39/39 [==============================] - 0s 3ms/step - loss: 0.6813 - accuracy: 0.5899 - val_loss: 0.6644 - val_accuracy: 0.6047\n",
            "Epoch 49/120\n",
            "39/39 [==============================] - 0s 3ms/step - loss: 0.6830 - accuracy: 0.5731 - val_loss: 0.6697 - val_accuracy: 0.6047\n",
            "Epoch 50/120\n",
            "39/39 [==============================] - 0s 4ms/step - loss: 0.6804 - accuracy: 0.5873 - val_loss: 0.6724 - val_accuracy: 0.5233\n",
            "Epoch 51/120\n",
            "39/39 [==============================] - 0s 3ms/step - loss: 0.6806 - accuracy: 0.5886 - val_loss: 0.6641 - val_accuracy: 0.6163\n",
            "Epoch 52/120\n",
            "39/39 [==============================] - 0s 3ms/step - loss: 0.6789 - accuracy: 0.5873 - val_loss: 0.6700 - val_accuracy: 0.6047\n",
            "Epoch 53/120\n",
            "39/39 [==============================] - 0s 3ms/step - loss: 0.6805 - accuracy: 0.5821 - val_loss: 0.6676 - val_accuracy: 0.6279\n",
            "Epoch 54/120\n",
            "39/39 [==============================] - 0s 3ms/step - loss: 0.6807 - accuracy: 0.5834 - val_loss: 0.6714 - val_accuracy: 0.5930\n",
            "Epoch 55/120\n",
            "39/39 [==============================] - 0s 3ms/step - loss: 0.6830 - accuracy: 0.5860 - val_loss: 0.6760 - val_accuracy: 0.6047\n",
            "Epoch 56/120\n",
            "39/39 [==============================] - 0s 3ms/step - loss: 0.6842 - accuracy: 0.5912 - val_loss: 0.6633 - val_accuracy: 0.6163\n",
            "Epoch 57/120\n",
            "39/39 [==============================] - 0s 3ms/step - loss: 0.6790 - accuracy: 0.5770 - val_loss: 0.6678 - val_accuracy: 0.6047\n",
            "Epoch 58/120\n",
            "39/39 [==============================] - 0s 3ms/step - loss: 0.6790 - accuracy: 0.5821 - val_loss: 0.6663 - val_accuracy: 0.5465\n",
            "Epoch 59/120\n",
            "39/39 [==============================] - 0s 3ms/step - loss: 0.6783 - accuracy: 0.5809 - val_loss: 0.6675 - val_accuracy: 0.6279\n",
            "Epoch 60/120\n",
            "39/39 [==============================] - 0s 3ms/step - loss: 0.6811 - accuracy: 0.5614 - val_loss: 0.6684 - val_accuracy: 0.6047\n",
            "Epoch 61/120\n",
            "39/39 [==============================] - 0s 3ms/step - loss: 0.6817 - accuracy: 0.5873 - val_loss: 0.6829 - val_accuracy: 0.5814\n",
            "Epoch 62/120\n",
            "39/39 [==============================] - 0s 3ms/step - loss: 0.6866 - accuracy: 0.5563 - val_loss: 0.6657 - val_accuracy: 0.6047\n",
            "Epoch 63/120\n",
            "39/39 [==============================] - 0s 3ms/step - loss: 0.6831 - accuracy: 0.5809 - val_loss: 0.6677 - val_accuracy: 0.5581\n",
            "Epoch 64/120\n",
            "39/39 [==============================] - 0s 3ms/step - loss: 0.6789 - accuracy: 0.5873 - val_loss: 0.6631 - val_accuracy: 0.6047\n",
            "Epoch 65/120\n",
            "39/39 [==============================] - 0s 3ms/step - loss: 0.6792 - accuracy: 0.5809 - val_loss: 0.6669 - val_accuracy: 0.6163\n",
            "Epoch 66/120\n",
            "39/39 [==============================] - 0s 3ms/step - loss: 0.6819 - accuracy: 0.5783 - val_loss: 0.6727 - val_accuracy: 0.6047\n",
            "Epoch 67/120\n",
            "39/39 [==============================] - 0s 3ms/step - loss: 0.6832 - accuracy: 0.5783 - val_loss: 0.6637 - val_accuracy: 0.6163\n",
            "Epoch 68/120\n",
            "39/39 [==============================] - 0s 3ms/step - loss: 0.6792 - accuracy: 0.5886 - val_loss: 0.6649 - val_accuracy: 0.6047\n",
            "Epoch 69/120\n",
            "39/39 [==============================] - 0s 3ms/step - loss: 0.6786 - accuracy: 0.5821 - val_loss: 0.6654 - val_accuracy: 0.6163\n",
            "Epoch 70/120\n",
            "39/39 [==============================] - 0s 3ms/step - loss: 0.6781 - accuracy: 0.5821 - val_loss: 0.6625 - val_accuracy: 0.6163\n",
            "Epoch 71/120\n",
            "39/39 [==============================] - 0s 3ms/step - loss: 0.6769 - accuracy: 0.5834 - val_loss: 0.6640 - val_accuracy: 0.6047\n",
            "Epoch 72/120\n",
            "39/39 [==============================] - 0s 3ms/step - loss: 0.6786 - accuracy: 0.5821 - val_loss: 0.6633 - val_accuracy: 0.6047\n",
            "Epoch 73/120\n",
            "39/39 [==============================] - 0s 3ms/step - loss: 0.6799 - accuracy: 0.5860 - val_loss: 0.6655 - val_accuracy: 0.6047\n",
            "Epoch 74/120\n",
            "39/39 [==============================] - 0s 3ms/step - loss: 0.6808 - accuracy: 0.5860 - val_loss: 0.6635 - val_accuracy: 0.6047\n",
            "Epoch 75/120\n",
            "39/39 [==============================] - 0s 3ms/step - loss: 0.6793 - accuracy: 0.5834 - val_loss: 0.6652 - val_accuracy: 0.6279\n",
            "Epoch 76/120\n",
            "39/39 [==============================] - 0s 3ms/step - loss: 0.6837 - accuracy: 0.5796 - val_loss: 0.6642 - val_accuracy: 0.6279\n",
            "Epoch 77/120\n",
            "39/39 [==============================] - 0s 3ms/step - loss: 0.6812 - accuracy: 0.5757 - val_loss: 0.6643 - val_accuracy: 0.5581\n",
            "Epoch 78/120\n",
            "39/39 [==============================] - 0s 3ms/step - loss: 0.6794 - accuracy: 0.5873 - val_loss: 0.6649 - val_accuracy: 0.6047\n",
            "Epoch 79/120\n",
            "39/39 [==============================] - 0s 3ms/step - loss: 0.6785 - accuracy: 0.5679 - val_loss: 0.6632 - val_accuracy: 0.6047\n",
            "Epoch 80/120\n",
            "39/39 [==============================] - 0s 3ms/step - loss: 0.6796 - accuracy: 0.5886 - val_loss: 0.6623 - val_accuracy: 0.6047\n",
            "Epoch 81/120\n",
            "39/39 [==============================] - 0s 3ms/step - loss: 0.6805 - accuracy: 0.5873 - val_loss: 0.6708 - val_accuracy: 0.5581\n",
            "Epoch 82/120\n",
            "39/39 [==============================] - 0s 3ms/step - loss: 0.6779 - accuracy: 0.5834 - val_loss: 0.6647 - val_accuracy: 0.5698\n",
            "Epoch 83/120\n",
            "39/39 [==============================] - 0s 4ms/step - loss: 0.6793 - accuracy: 0.5757 - val_loss: 0.6633 - val_accuracy: 0.6047\n",
            "Epoch 84/120\n",
            "39/39 [==============================] - 0s 3ms/step - loss: 0.6800 - accuracy: 0.5834 - val_loss: 0.6674 - val_accuracy: 0.6512\n",
            "Epoch 85/120\n",
            "39/39 [==============================] - 0s 3ms/step - loss: 0.6805 - accuracy: 0.5770 - val_loss: 0.6651 - val_accuracy: 0.6047\n",
            "Epoch 86/120\n",
            "39/39 [==============================] - 0s 3ms/step - loss: 0.6778 - accuracy: 0.5770 - val_loss: 0.6671 - val_accuracy: 0.6163\n",
            "Epoch 87/120\n",
            "39/39 [==============================] - 0s 3ms/step - loss: 0.6791 - accuracy: 0.5821 - val_loss: 0.6639 - val_accuracy: 0.5930\n",
            "Epoch 88/120\n",
            "39/39 [==============================] - 0s 3ms/step - loss: 0.6772 - accuracy: 0.5873 - val_loss: 0.6629 - val_accuracy: 0.6047\n",
            "Epoch 89/120\n",
            "39/39 [==============================] - 0s 3ms/step - loss: 0.6787 - accuracy: 0.5783 - val_loss: 0.6644 - val_accuracy: 0.5581\n",
            "Epoch 90/120\n",
            "39/39 [==============================] - 0s 3ms/step - loss: 0.6816 - accuracy: 0.5860 - val_loss: 0.6684 - val_accuracy: 0.6047\n",
            "Epoch 91/120\n",
            "39/39 [==============================] - 0s 3ms/step - loss: 0.6782 - accuracy: 0.5912 - val_loss: 0.6624 - val_accuracy: 0.6047\n",
            "Epoch 92/120\n",
            "39/39 [==============================] - 0s 3ms/step - loss: 0.6766 - accuracy: 0.5834 - val_loss: 0.6629 - val_accuracy: 0.6047\n",
            "Epoch 93/120\n",
            "39/39 [==============================] - 0s 3ms/step - loss: 0.6777 - accuracy: 0.5886 - val_loss: 0.6662 - val_accuracy: 0.6279\n",
            "Epoch 94/120\n",
            "39/39 [==============================] - 0s 3ms/step - loss: 0.6779 - accuracy: 0.5860 - val_loss: 0.6616 - val_accuracy: 0.6047\n",
            "Epoch 95/120\n",
            "39/39 [==============================] - 0s 3ms/step - loss: 0.6774 - accuracy: 0.5834 - val_loss: 0.6661 - val_accuracy: 0.6279\n",
            "Epoch 96/120\n",
            "39/39 [==============================] - 0s 3ms/step - loss: 0.6778 - accuracy: 0.5821 - val_loss: 0.6617 - val_accuracy: 0.6047\n",
            "Epoch 97/120\n",
            "39/39 [==============================] - 0s 3ms/step - loss: 0.6793 - accuracy: 0.5860 - val_loss: 0.6627 - val_accuracy: 0.6047\n",
            "Epoch 98/120\n",
            "39/39 [==============================] - 0s 3ms/step - loss: 0.6794 - accuracy: 0.5847 - val_loss: 0.6612 - val_accuracy: 0.6047\n",
            "Epoch 99/120\n",
            "39/39 [==============================] - 0s 3ms/step - loss: 0.6829 - accuracy: 0.5796 - val_loss: 0.6621 - val_accuracy: 0.5581\n",
            "Epoch 100/120\n",
            "39/39 [==============================] - 0s 3ms/step - loss: 0.6792 - accuracy: 0.5821 - val_loss: 0.6640 - val_accuracy: 0.5581\n",
            "Epoch 101/120\n",
            "39/39 [==============================] - 0s 3ms/step - loss: 0.6780 - accuracy: 0.5783 - val_loss: 0.6630 - val_accuracy: 0.6279\n",
            "Epoch 102/120\n",
            "39/39 [==============================] - 0s 3ms/step - loss: 0.6768 - accuracy: 0.5860 - val_loss: 0.6634 - val_accuracy: 0.6279\n",
            "Epoch 103/120\n",
            "39/39 [==============================] - 0s 3ms/step - loss: 0.6770 - accuracy: 0.5951 - val_loss: 0.6611 - val_accuracy: 0.6047\n",
            "Epoch 104/120\n",
            "39/39 [==============================] - 0s 3ms/step - loss: 0.6786 - accuracy: 0.5821 - val_loss: 0.6647 - val_accuracy: 0.6279\n",
            "Epoch 105/120\n",
            "39/39 [==============================] - 0s 3ms/step - loss: 0.6800 - accuracy: 0.5796 - val_loss: 0.6692 - val_accuracy: 0.6279\n",
            "Epoch 106/120\n",
            "39/39 [==============================] - 0s 3ms/step - loss: 0.6774 - accuracy: 0.5744 - val_loss: 0.6614 - val_accuracy: 0.6047\n",
            "Epoch 107/120\n",
            "39/39 [==============================] - 0s 3ms/step - loss: 0.6816 - accuracy: 0.5770 - val_loss: 0.6612 - val_accuracy: 0.6163\n",
            "Epoch 108/120\n",
            "39/39 [==============================] - 0s 3ms/step - loss: 0.6795 - accuracy: 0.5770 - val_loss: 0.6637 - val_accuracy: 0.5698\n",
            "Epoch 109/120\n",
            "39/39 [==============================] - 0s 3ms/step - loss: 0.6774 - accuracy: 0.5821 - val_loss: 0.6613 - val_accuracy: 0.6047\n",
            "Epoch 110/120\n",
            "39/39 [==============================] - 0s 3ms/step - loss: 0.6822 - accuracy: 0.5731 - val_loss: 0.6631 - val_accuracy: 0.5698\n",
            "Epoch 111/120\n",
            "39/39 [==============================] - 0s 3ms/step - loss: 0.6802 - accuracy: 0.5821 - val_loss: 0.6685 - val_accuracy: 0.5814\n",
            "Epoch 112/120\n",
            "39/39 [==============================] - 0s 3ms/step - loss: 0.6790 - accuracy: 0.5744 - val_loss: 0.6606 - val_accuracy: 0.6047\n",
            "Epoch 113/120\n",
            "39/39 [==============================] - 0s 3ms/step - loss: 0.6800 - accuracy: 0.5873 - val_loss: 0.6624 - val_accuracy: 0.6279\n",
            "Epoch 114/120\n",
            "39/39 [==============================] - 0s 3ms/step - loss: 0.6812 - accuracy: 0.5757 - val_loss: 0.6648 - val_accuracy: 0.6279\n",
            "Epoch 115/120\n",
            "39/39 [==============================] - 0s 3ms/step - loss: 0.6764 - accuracy: 0.5809 - val_loss: 0.6658 - val_accuracy: 0.5814\n",
            "Epoch 116/120\n",
            "39/39 [==============================] - 0s 3ms/step - loss: 0.6779 - accuracy: 0.5938 - val_loss: 0.6605 - val_accuracy: 0.6047\n",
            "Epoch 117/120\n",
            "39/39 [==============================] - 0s 3ms/step - loss: 0.6782 - accuracy: 0.5679 - val_loss: 0.6710 - val_accuracy: 0.5698\n",
            "Epoch 118/120\n",
            "39/39 [==============================] - 0s 3ms/step - loss: 0.6802 - accuracy: 0.5705 - val_loss: 0.6617 - val_accuracy: 0.6163\n",
            "Epoch 119/120\n",
            "39/39 [==============================] - 0s 3ms/step - loss: 0.6760 - accuracy: 0.5912 - val_loss: 0.6598 - val_accuracy: 0.6163\n",
            "Epoch 120/120\n",
            "39/39 [==============================] - 0s 3ms/step - loss: 0.6780 - accuracy: 0.5809 - val_loss: 0.6607 - val_accuracy: 0.6047\n"
          ]
        },
        {
          "output_type": "display_data",
          "data": {
            "text/plain": [
              "<Figure size 640x480 with 1 Axes>"
            ],
            "image/png": "[encoded data removed]"
          },
          "metadata": {}
        }
      ]
    },
    {
      "cell_type": "code",
      "source": [
        "indexes = range(0,4)\n",
        "\n",
        "model = Sequential()\n",
        "model.add(Dense(100, activation='elu', input_shape=(len(indexes),)))\n",
        "model.add(Dense(10, activation='elu'))\n",
        "\n",
        "model.compile(optimizer=Adam(learning_rate=1e-4),\n",
        "              loss='sparse_categorical_crossentropy',\n",
        "              metrics=['accuracy'])\n",
        "\n",
        "history = model.fit(X_train[:, indexes],\n",
        "                    y_train,\n",
        "                    epochs=120,\n",
        "                    batch_size=20,\n",
        "                    validation_data=(X_test[:, indexes], y_test))\n",
        "\n",
        "plt.plot(history.history[\"accuracy\"])\n",
        "plt.plot(history.history[\"val_accuracy\"])\n",
        "plt.show()"
      ],
      "metadata": {
        "colab": {
          "base_uri": "https://localhost:8080/",
          "height": 1000
        },
        "id": "iHEU7qHCRFjD",
        "outputId": "00cccbd8-ecc7-48c3-bd1c-7223bde768bb"
      },
      "execution_count": 29,
      "outputs": [
        {
          "output_type": "stream",
          "name": "stderr",
          "text": [
            "WARNING:absl:`lr` is deprecated in Keras optimizer, please use `learning_rate` or use the legacy optimizer, e.g.,tf.keras.optimizers.legacy.Adam.\n"
          ]
        },
        {
          "output_type": "stream",
          "name": "stdout",
          "text": [
            "Epoch 1/120\n",
            "39/39 [==============================] - 1s 7ms/step - loss: 8.1898 - accuracy: 0.3169 - val_loss: 5.9806 - val_accuracy: 0.4884\n",
            "Epoch 2/120\n",
            "39/39 [==============================] - 0s 3ms/step - loss: 3.8884 - accuracy: 0.5110 - val_loss: 1.8126 - val_accuracy: 0.3953\n",
            "Epoch 3/120\n",
            "39/39 [==============================] - 0s 3ms/step - loss: 1.5776 - accuracy: 0.3040 - val_loss: 1.6561 - val_accuracy: 0.2791\n",
            "Epoch 4/120\n",
            "39/39 [==============================] - 0s 4ms/step - loss: 1.5135 - accuracy: 0.2937 - val_loss: 1.5597 - val_accuracy: 0.2791\n",
            "Epoch 5/120\n",
            "39/39 [==============================] - 0s 4ms/step - loss: 1.5192 - accuracy: 0.2937 - val_loss: 1.5731 - val_accuracy: 0.2791\n",
            "Epoch 6/120\n",
            "39/39 [==============================] - 0s 4ms/step - loss: 1.5166 - accuracy: 0.2937 - val_loss: 1.5764 - val_accuracy: 0.2791\n",
            "Epoch 7/120\n",
            "39/39 [==============================] - 0s 4ms/step - loss: 1.5818 - accuracy: 0.2937 - val_loss: 1.6445 - val_accuracy: 0.2791\n",
            "Epoch 8/120\n",
            "39/39 [==============================] - 0s 4ms/step - loss: 1.5905 - accuracy: 0.2937 - val_loss: 1.6353 - val_accuracy: 0.2791\n",
            "Epoch 9/120\n",
            "39/39 [==============================] - 0s 5ms/step - loss: 1.5808 - accuracy: 0.2743 - val_loss: 1.6256 - val_accuracy: 0.2674\n",
            "Epoch 10/120\n",
            "39/39 [==============================] - 0s 4ms/step - loss: 1.5712 - accuracy: 0.2704 - val_loss: 1.6176 - val_accuracy: 0.2791\n",
            "Epoch 11/120\n",
            "39/39 [==============================] - 0s 4ms/step - loss: 1.5633 - accuracy: 0.2561 - val_loss: 1.6104 - val_accuracy: 0.2791\n",
            "Epoch 12/120\n",
            "39/39 [==============================] - 0s 4ms/step - loss: 1.5553 - accuracy: 0.2497 - val_loss: 1.6033 - val_accuracy: 0.2791\n",
            "Epoch 13/120\n",
            "39/39 [==============================] - 0s 4ms/step - loss: 1.5477 - accuracy: 0.2497 - val_loss: 1.5971 - val_accuracy: 0.2674\n",
            "Epoch 14/120\n",
            "39/39 [==============================] - 0s 5ms/step - loss: 1.5411 - accuracy: 0.2691 - val_loss: 1.5914 - val_accuracy: 0.2674\n",
            "Epoch 15/120\n",
            "39/39 [==============================] - 0s 5ms/step - loss: 1.5341 - accuracy: 0.2768 - val_loss: 1.5856 - val_accuracy: 0.2791\n",
            "Epoch 16/120\n",
            "39/39 [==============================] - 0s 4ms/step - loss: 1.5273 - accuracy: 0.2730 - val_loss: 1.5791 - val_accuracy: 0.2791\n",
            "Epoch 17/120\n",
            "39/39 [==============================] - 0s 4ms/step - loss: 1.5205 - accuracy: 0.2755 - val_loss: 1.5732 - val_accuracy: 0.2674\n",
            "Epoch 18/120\n",
            "39/39 [==============================] - 0s 4ms/step - loss: 1.5145 - accuracy: 0.2626 - val_loss: 1.5678 - val_accuracy: 0.2674\n",
            "Epoch 19/120\n",
            "39/39 [==============================] - 0s 5ms/step - loss: 1.5088 - accuracy: 0.2730 - val_loss: 1.5630 - val_accuracy: 0.2791\n",
            "Epoch 20/120\n",
            "39/39 [==============================] - 0s 4ms/step - loss: 1.5033 - accuracy: 0.2846 - val_loss: 1.5581 - val_accuracy: 0.2791\n",
            "Epoch 21/120\n",
            "39/39 [==============================] - 0s 4ms/step - loss: 1.4987 - accuracy: 0.2924 - val_loss: 1.5543 - val_accuracy: 0.2791\n",
            "Epoch 22/120\n",
            "39/39 [==============================] - 0s 4ms/step - loss: 1.4953 - accuracy: 0.2924 - val_loss: 1.5520 - val_accuracy: 0.2791\n",
            "Epoch 23/120\n",
            "39/39 [==============================] - 0s 4ms/step - loss: 1.4931 - accuracy: 0.2937 - val_loss: 1.5503 - val_accuracy: 0.2791\n",
            "Epoch 24/120\n",
            "39/39 [==============================] - 0s 4ms/step - loss: 1.4911 - accuracy: 0.2950 - val_loss: 1.5485 - val_accuracy: 0.2907\n",
            "Epoch 25/120\n",
            "39/39 [==============================] - 0s 4ms/step - loss: 1.4896 - accuracy: 0.2950 - val_loss: 1.5475 - val_accuracy: 0.2907\n",
            "Epoch 26/120\n",
            "39/39 [==============================] - 0s 5ms/step - loss: 1.4888 - accuracy: 0.2950 - val_loss: 1.5468 - val_accuracy: 0.2907\n",
            "Epoch 27/120\n",
            "39/39 [==============================] - 0s 4ms/step - loss: 1.4873 - accuracy: 0.2950 - val_loss: 1.5464 - val_accuracy: 0.2907\n",
            "Epoch 28/120\n",
            "39/39 [==============================] - 0s 5ms/step - loss: 1.4869 - accuracy: 0.2950 - val_loss: 1.5459 - val_accuracy: 0.2907\n",
            "Epoch 29/120\n",
            "39/39 [==============================] - 0s 4ms/step - loss: 1.4861 - accuracy: 0.2975 - val_loss: 1.5456 - val_accuracy: 0.2907\n",
            "Epoch 30/120\n",
            "39/39 [==============================] - 0s 5ms/step - loss: 1.4860 - accuracy: 0.2975 - val_loss: 1.5452 - val_accuracy: 0.2907\n",
            "Epoch 31/120\n",
            "39/39 [==============================] - 0s 6ms/step - loss: 1.4855 - accuracy: 0.3001 - val_loss: 1.5450 - val_accuracy: 0.2907\n",
            "Epoch 32/120\n",
            "39/39 [==============================] - 0s 4ms/step - loss: 1.4853 - accuracy: 0.3001 - val_loss: 1.5450 - val_accuracy: 0.2907\n",
            "Epoch 33/120\n",
            "39/39 [==============================] - 0s 3ms/step - loss: 1.4851 - accuracy: 0.3001 - val_loss: 1.5447 - val_accuracy: 0.2907\n",
            "Epoch 34/120\n",
            "39/39 [==============================] - 0s 3ms/step - loss: 1.4848 - accuracy: 0.3001 - val_loss: 1.5446 - val_accuracy: 0.2907\n",
            "Epoch 35/120\n",
            "39/39 [==============================] - 0s 3ms/step - loss: 1.4847 - accuracy: 0.3001 - val_loss: 1.5448 - val_accuracy: 0.2907\n",
            "Epoch 36/120\n",
            "39/39 [==============================] - 0s 3ms/step - loss: 1.4850 - accuracy: 0.3014 - val_loss: 1.5450 - val_accuracy: 0.2907\n",
            "Epoch 37/120\n",
            "39/39 [==============================] - 0s 3ms/step - loss: 1.4843 - accuracy: 0.3014 - val_loss: 1.5443 - val_accuracy: 0.2907\n",
            "Epoch 38/120\n",
            "39/39 [==============================] - 0s 3ms/step - loss: 1.4848 - accuracy: 0.3001 - val_loss: 1.5443 - val_accuracy: 0.2907\n",
            "Epoch 39/120\n",
            "39/39 [==============================] - 0s 4ms/step - loss: 1.4842 - accuracy: 0.3014 - val_loss: 1.5445 - val_accuracy: 0.2907\n",
            "Epoch 40/120\n",
            "39/39 [==============================] - 0s 3ms/step - loss: 1.4845 - accuracy: 0.3014 - val_loss: 1.5441 - val_accuracy: 0.2907\n",
            "Epoch 41/120\n",
            "39/39 [==============================] - 0s 3ms/step - loss: 1.4839 - accuracy: 0.3014 - val_loss: 1.5442 - val_accuracy: 0.2907\n",
            "Epoch 42/120\n",
            "39/39 [==============================] - 0s 3ms/step - loss: 1.4841 - accuracy: 0.3014 - val_loss: 1.5439 - val_accuracy: 0.2907\n",
            "Epoch 43/120\n",
            "39/39 [==============================] - 0s 3ms/step - loss: 1.4843 - accuracy: 0.3014 - val_loss: 1.5440 - val_accuracy: 0.2907\n",
            "Epoch 44/120\n",
            "39/39 [==============================] - 0s 3ms/step - loss: 1.4838 - accuracy: 0.3014 - val_loss: 1.5441 - val_accuracy: 0.2907\n",
            "Epoch 45/120\n",
            "39/39 [==============================] - 0s 3ms/step - loss: 1.4841 - accuracy: 0.3014 - val_loss: 1.5436 - val_accuracy: 0.2907\n",
            "Epoch 46/120\n",
            "39/39 [==============================] - 0s 3ms/step - loss: 1.4835 - accuracy: 0.3014 - val_loss: 1.5438 - val_accuracy: 0.2907\n",
            "Epoch 47/120\n",
            "39/39 [==============================] - 0s 3ms/step - loss: 1.4835 - accuracy: 0.2988 - val_loss: 1.5436 - val_accuracy: 0.2907\n",
            "Epoch 48/120\n",
            "39/39 [==============================] - 0s 3ms/step - loss: 1.4830 - accuracy: 0.2962 - val_loss: 1.5435 - val_accuracy: 0.2907\n",
            "Epoch 49/120\n",
            "39/39 [==============================] - 0s 3ms/step - loss: 1.4829 - accuracy: 0.3040 - val_loss: 1.5436 - val_accuracy: 0.2907\n",
            "Epoch 50/120\n",
            "39/39 [==============================] - 0s 3ms/step - loss: 1.4829 - accuracy: 0.3040 - val_loss: 1.5438 - val_accuracy: 0.2907\n",
            "Epoch 51/120\n",
            "39/39 [==============================] - 0s 3ms/step - loss: 1.4831 - accuracy: 0.3001 - val_loss: 1.5434 - val_accuracy: 0.2907\n",
            "Epoch 52/120\n",
            "39/39 [==============================] - 0s 3ms/step - loss: 1.4828 - accuracy: 0.3001 - val_loss: 1.5434 - val_accuracy: 0.2907\n",
            "Epoch 53/120\n",
            "39/39 [==============================] - 0s 3ms/step - loss: 1.4826 - accuracy: 0.2962 - val_loss: 1.5433 - val_accuracy: 0.2791\n",
            "Epoch 54/120\n",
            "39/39 [==============================] - 0s 3ms/step - loss: 1.4821 - accuracy: 0.2975 - val_loss: 1.5433 - val_accuracy: 0.2907\n",
            "Epoch 55/120\n",
            "39/39 [==============================] - 0s 3ms/step - loss: 1.4821 - accuracy: 0.3014 - val_loss: 1.5432 - val_accuracy: 0.2791\n",
            "Epoch 56/120\n",
            "39/39 [==============================] - 0s 3ms/step - loss: 1.4821 - accuracy: 0.2975 - val_loss: 1.5436 - val_accuracy: 0.2791\n",
            "Epoch 57/120\n",
            "39/39 [==============================] - 0s 3ms/step - loss: 1.4832 - accuracy: 0.2988 - val_loss: 1.5451 - val_accuracy: 0.2674\n",
            "Epoch 58/120\n",
            "39/39 [==============================] - 0s 4ms/step - loss: 1.4844 - accuracy: 0.2872 - val_loss: 1.5457 - val_accuracy: 0.2907\n",
            "Epoch 59/120\n",
            "39/39 [==============================] - 0s 3ms/step - loss: 1.4822 - accuracy: 0.3027 - val_loss: 1.5431 - val_accuracy: 0.2791\n",
            "Epoch 60/120\n",
            "39/39 [==============================] - 0s 3ms/step - loss: 1.4829 - accuracy: 0.2975 - val_loss: 1.5435 - val_accuracy: 0.2791\n",
            "Epoch 61/120\n",
            "39/39 [==============================] - 0s 3ms/step - loss: 1.4832 - accuracy: 0.2561 - val_loss: 1.5438 - val_accuracy: 0.2674\n",
            "Epoch 62/120\n",
            "39/39 [==============================] - 0s 3ms/step - loss: 1.4813 - accuracy: 0.2950 - val_loss: 1.5428 - val_accuracy: 0.2791\n",
            "Epoch 63/120\n",
            "39/39 [==============================] - 0s 3ms/step - loss: 1.4817 - accuracy: 0.2859 - val_loss: 1.5426 - val_accuracy: 0.2674\n",
            "Epoch 64/120\n",
            "39/39 [==============================] - 0s 3ms/step - loss: 1.4805 - accuracy: 0.2859 - val_loss: 1.5430 - val_accuracy: 0.2791\n",
            "Epoch 65/120\n",
            "39/39 [==============================] - 0s 3ms/step - loss: 1.4809 - accuracy: 0.2885 - val_loss: 1.5427 - val_accuracy: 0.2674\n",
            "Epoch 66/120\n",
            "39/39 [==============================] - 0s 3ms/step - loss: 1.4778 - accuracy: 0.2846 - val_loss: 1.5424 - val_accuracy: 0.2791\n",
            "Epoch 67/120\n",
            "39/39 [==============================] - 0s 3ms/step - loss: 1.4780 - accuracy: 0.2937 - val_loss: 1.5159 - val_accuracy: 0.2791\n",
            "Epoch 68/120\n",
            "39/39 [==============================] - 0s 3ms/step - loss: 1.4746 - accuracy: 0.2988 - val_loss: 1.5157 - val_accuracy: 0.2791\n",
            "Epoch 69/120\n",
            "39/39 [==============================] - 0s 3ms/step - loss: 1.4741 - accuracy: 0.3027 - val_loss: 1.5155 - val_accuracy: 0.2791\n",
            "Epoch 70/120\n",
            "39/39 [==============================] - 0s 3ms/step - loss: 1.4743 - accuracy: 0.2846 - val_loss: 1.5157 - val_accuracy: 0.2674\n",
            "Epoch 71/120\n",
            "39/39 [==============================] - 0s 3ms/step - loss: 1.4741 - accuracy: 0.2988 - val_loss: 1.5159 - val_accuracy: 0.2791\n",
            "Epoch 72/120\n",
            "39/39 [==============================] - 0s 3ms/step - loss: 1.4739 - accuracy: 0.2794 - val_loss: 1.5154 - val_accuracy: 0.2791\n",
            "Epoch 73/120\n",
            "39/39 [==============================] - 0s 3ms/step - loss: 1.4622 - accuracy: 0.2898 - val_loss: 1.5156 - val_accuracy: 0.2674\n",
            "Epoch 74/120\n",
            "39/39 [==============================] - 0s 3ms/step - loss: 1.4616 - accuracy: 0.2885 - val_loss: 1.5159 - val_accuracy: 0.2791\n",
            "Epoch 75/120\n",
            "39/39 [==============================] - 0s 3ms/step - loss: 1.4624 - accuracy: 0.2962 - val_loss: 1.5158 - val_accuracy: 0.2791\n",
            "Epoch 76/120\n",
            "39/39 [==============================] - 0s 3ms/step - loss: 1.4623 - accuracy: 0.2781 - val_loss: 1.5171 - val_accuracy: 0.2791\n",
            "Epoch 77/120\n",
            "39/39 [==============================] - 0s 3ms/step - loss: 1.4618 - accuracy: 0.2898 - val_loss: 1.5155 - val_accuracy: 0.2558\n",
            "Epoch 78/120\n",
            "39/39 [==============================] - 0s 3ms/step - loss: 1.4585 - accuracy: 0.2794 - val_loss: 1.5156 - val_accuracy: 0.3140\n",
            "Epoch 79/120\n",
            "39/39 [==============================] - 0s 3ms/step - loss: 1.4579 - accuracy: 0.2859 - val_loss: 1.5153 - val_accuracy: 0.2674\n",
            "Epoch 80/120\n",
            "39/39 [==============================] - 0s 3ms/step - loss: 1.4933 - accuracy: 0.2768 - val_loss: 1.5468 - val_accuracy: 0.2791\n",
            "Epoch 81/120\n",
            "39/39 [==============================] - 0s 3ms/step - loss: 1.4919 - accuracy: 0.2807 - val_loss: 1.5475 - val_accuracy: 0.2558\n",
            "Epoch 82/120\n",
            "39/39 [==============================] - 0s 4ms/step - loss: 1.6776 - accuracy: 0.2833 - val_loss: 1.5715 - val_accuracy: 0.2558\n",
            "Epoch 83/120\n",
            "39/39 [==============================] - 0s 3ms/step - loss: 1.5989 - accuracy: 0.2303 - val_loss: 1.6302 - val_accuracy: 0.1860\n",
            "Epoch 84/120\n",
            "39/39 [==============================] - 0s 3ms/step - loss: 1.5547 - accuracy: 0.2199 - val_loss: 1.6903 - val_accuracy: 0.1744\n",
            "Epoch 85/120\n",
            "39/39 [==============================] - 0s 4ms/step - loss: 1.5355 - accuracy: 0.2199 - val_loss: 1.5643 - val_accuracy: 0.1860\n",
            "Epoch 86/120\n",
            "39/39 [==============================] - 0s 3ms/step - loss: 1.4990 - accuracy: 0.2186 - val_loss: 1.5601 - val_accuracy: 0.1860\n",
            "Epoch 87/120\n",
            "39/39 [==============================] - 0s 3ms/step - loss: 1.4961 - accuracy: 0.2212 - val_loss: 1.5590 - val_accuracy: 0.1860\n",
            "Epoch 88/120\n",
            "39/39 [==============================] - 0s 3ms/step - loss: 1.4954 - accuracy: 0.2186 - val_loss: 1.5583 - val_accuracy: 0.1860\n",
            "Epoch 89/120\n",
            "39/39 [==============================] - 0s 3ms/step - loss: 1.4948 - accuracy: 0.2186 - val_loss: 1.5577 - val_accuracy: 0.1860\n",
            "Epoch 90/120\n",
            "39/39 [==============================] - 0s 3ms/step - loss: 1.4942 - accuracy: 0.2199 - val_loss: 1.5573 - val_accuracy: 0.1860\n",
            "Epoch 91/120\n",
            "39/39 [==============================] - 0s 3ms/step - loss: 1.4938 - accuracy: 0.2212 - val_loss: 1.5571 - val_accuracy: 0.1860\n",
            "Epoch 92/120\n",
            "39/39 [==============================] - 0s 3ms/step - loss: 1.4933 - accuracy: 0.2212 - val_loss: 1.5569 - val_accuracy: 0.1860\n",
            "Epoch 93/120\n",
            "39/39 [==============================] - 0s 3ms/step - loss: 1.4929 - accuracy: 0.2199 - val_loss: 1.5566 - val_accuracy: 0.1860\n",
            "Epoch 94/120\n",
            "39/39 [==============================] - 0s 3ms/step - loss: 1.4924 - accuracy: 0.2212 - val_loss: 1.5564 - val_accuracy: 0.1860\n",
            "Epoch 95/120\n",
            "39/39 [==============================] - 0s 3ms/step - loss: 1.4920 - accuracy: 0.2199 - val_loss: 1.5562 - val_accuracy: 0.1860\n",
            "Epoch 96/120\n",
            "39/39 [==============================] - 0s 3ms/step - loss: 1.4917 - accuracy: 0.2212 - val_loss: 1.5562 - val_accuracy: 0.1860\n",
            "Epoch 97/120\n",
            "39/39 [==============================] - 0s 3ms/step - loss: 1.4912 - accuracy: 0.2238 - val_loss: 1.5560 - val_accuracy: 0.1860\n",
            "Epoch 98/120\n",
            "39/39 [==============================] - 0s 4ms/step - loss: 1.4910 - accuracy: 0.2225 - val_loss: 1.5558 - val_accuracy: 0.1860\n",
            "Epoch 99/120\n",
            "39/39 [==============================] - 0s 3ms/step - loss: 1.4906 - accuracy: 0.2212 - val_loss: 1.5557 - val_accuracy: 0.1860\n",
            "Epoch 100/120\n",
            "39/39 [==============================] - 0s 3ms/step - loss: 1.4903 - accuracy: 0.2225 - val_loss: 1.5553 - val_accuracy: 0.1977\n",
            "Epoch 101/120\n",
            "39/39 [==============================] - 0s 3ms/step - loss: 1.4900 - accuracy: 0.2238 - val_loss: 1.5551 - val_accuracy: 0.1860\n",
            "Epoch 102/120\n",
            "39/39 [==============================] - 0s 3ms/step - loss: 1.4897 - accuracy: 0.2238 - val_loss: 1.5549 - val_accuracy: 0.1860\n",
            "Epoch 103/120\n",
            "39/39 [==============================] - 0s 3ms/step - loss: 1.4895 - accuracy: 0.2264 - val_loss: 1.5548 - val_accuracy: 0.1860\n",
            "Epoch 104/120\n",
            "39/39 [==============================] - 0s 3ms/step - loss: 1.4892 - accuracy: 0.2329 - val_loss: 1.5545 - val_accuracy: 0.1860\n",
            "Epoch 105/120\n",
            "39/39 [==============================] - 0s 3ms/step - loss: 1.4890 - accuracy: 0.2329 - val_loss: 1.5542 - val_accuracy: 0.1860\n",
            "Epoch 106/120\n",
            "39/39 [==============================] - 0s 3ms/step - loss: 1.4887 - accuracy: 0.2380 - val_loss: 1.5541 - val_accuracy: 0.1860\n",
            "Epoch 107/120\n",
            "39/39 [==============================] - 0s 3ms/step - loss: 1.4885 - accuracy: 0.2380 - val_loss: 1.5541 - val_accuracy: 0.1860\n",
            "Epoch 108/120\n",
            "39/39 [==============================] - 0s 3ms/step - loss: 1.4883 - accuracy: 0.2406 - val_loss: 1.5539 - val_accuracy: 0.1977\n",
            "Epoch 109/120\n",
            "39/39 [==============================] - 0s 4ms/step - loss: 1.4911 - accuracy: 0.2393 - val_loss: 1.5536 - val_accuracy: 0.1977\n",
            "Epoch 110/120\n",
            "39/39 [==============================] - 0s 5ms/step - loss: 1.4909 - accuracy: 0.2406 - val_loss: 1.5534 - val_accuracy: 0.2093\n",
            "Epoch 111/120\n",
            "39/39 [==============================] - 0s 5ms/step - loss: 1.4907 - accuracy: 0.2484 - val_loss: 1.5533 - val_accuracy: 0.2093\n",
            "Epoch 112/120\n",
            "39/39 [==============================] - 0s 5ms/step - loss: 1.4904 - accuracy: 0.2458 - val_loss: 1.5529 - val_accuracy: 0.2093\n",
            "Epoch 113/120\n",
            "39/39 [==============================] - 0s 4ms/step - loss: 1.4902 - accuracy: 0.2471 - val_loss: 1.5526 - val_accuracy: 0.2093\n",
            "Epoch 114/120\n",
            "39/39 [==============================] - 0s 5ms/step - loss: 1.4898 - accuracy: 0.2471 - val_loss: 1.5523 - val_accuracy: 0.2093\n",
            "Epoch 115/120\n",
            "39/39 [==============================] - 0s 4ms/step - loss: 1.4896 - accuracy: 0.2445 - val_loss: 1.5520 - val_accuracy: 0.2093\n",
            "Epoch 116/120\n",
            "39/39 [==============================] - 0s 4ms/step - loss: 1.4894 - accuracy: 0.2458 - val_loss: 1.5518 - val_accuracy: 0.2093\n",
            "Epoch 117/120\n",
            "39/39 [==============================] - 0s 4ms/step - loss: 1.4892 - accuracy: 0.2380 - val_loss: 1.5514 - val_accuracy: 0.2093\n",
            "Epoch 118/120\n",
            "39/39 [==============================] - 0s 4ms/step - loss: 1.4891 - accuracy: 0.2380 - val_loss: 1.5511 - val_accuracy: 0.2209\n",
            "Epoch 119/120\n",
            "39/39 [==============================] - 0s 4ms/step - loss: 1.4888 - accuracy: 0.2445 - val_loss: 1.5509 - val_accuracy: 0.2326\n",
            "Epoch 120/120\n",
            "39/39 [==============================] - 0s 4ms/step - loss: 1.4886 - accuracy: 0.2406 - val_loss: 1.5506 - val_accuracy: 0.2326\n"
          ]
        },
        {
          "output_type": "display_data",
          "data": {
            "text/plain": [
              "<Figure size 640x480 with 1 Axes>"
            ],
            "image/png": "[encoded data removed]"
          },
          "metadata": {}
        }
      ]
    }
  ]
}